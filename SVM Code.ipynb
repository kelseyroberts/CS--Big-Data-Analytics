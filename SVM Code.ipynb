{
 "cells": [
  {
   "cell_type": "code",
   "execution_count": 1,
   "metadata": {},
   "outputs": [],
   "source": [
    "import pandas as pd\n",
    "import numpy as np\n",
    "import matplotlib.pyplot as plt"
   ]
  },
  {
   "cell_type": "code",
   "execution_count": 2,
   "metadata": {},
   "outputs": [],
   "source": [
    "def loadFile(df):\n",
    "  # load a comma-delimited text file into an np matrix\n",
    "  resultList = []\n",
    "  f = open(df, 'r')\n",
    "  for line in f:\n",
    "    line = line.rstrip('\\n')  # \"1.0,2.0,3.0\"\n",
    "    sVals = line.split(',')   # [\"1.0\", \"2.0, \"3.0\"]\n",
    "    fVals = list(map(np.float32, sVals))  # [1.0, 2.0, 3.0]\n",
    "    resultList.append(fVals)  # [[1.0, 2.0, 3.0] , [4.0, 5.0, 6.0]]\n",
    "  f.close()\n",
    "  return np.asarray(resultList, dtype=np.float32)  # already float32\n",
    "# end loadFile"
   ]
  },
  {
   "cell_type": "code",
   "execution_count": 3,
   "metadata": {
    "scrolled": true
   },
   "outputs": [],
   "source": [
    "X=loadFile(\"features.train.txt\")"
   ]
  },
  {
   "cell_type": "code",
   "execution_count": 4,
   "metadata": {},
   "outputs": [
    {
     "data": {
      "text/plain": [
       "array([[0., 0., 1., ..., 0., 0., 0.],\n",
       "       [0., 0., 1., ..., 0., 0., 0.],\n",
       "       [0., 0., 1., ..., 0., 0., 0.],\n",
       "       ...,\n",
       "       [0., 1., 0., ..., 0., 0., 0.],\n",
       "       [1., 0., 0., ..., 0., 0., 0.],\n",
       "       [0., 0., 0., ..., 0., 0., 0.]], dtype=float32)"
      ]
     },
     "execution_count": 4,
     "metadata": {},
     "output_type": "execute_result"
    }
   ],
   "source": [
    "X"
   ]
  },
  {
   "cell_type": "code",
   "execution_count": 5,
   "metadata": {},
   "outputs": [],
   "source": [
    "Y=loadFile(\"target.train.txt\")"
   ]
  },
  {
   "cell_type": "code",
   "execution_count": 6,
   "metadata": {},
   "outputs": [],
   "source": [
    "w=np.zeros(122)"
   ]
  },
  {
   "cell_type": "code",
   "execution_count": 7,
   "metadata": {},
   "outputs": [],
   "source": [
    "b=0"
   ]
  },
  {
   "cell_type": "code",
   "execution_count": 10,
   "metadata": {},
   "outputs": [
    {
     "data": {
      "text/plain": [
       "0"
      ]
     },
     "execution_count": 10,
     "metadata": {},
     "output_type": "execute_result"
    }
   ],
   "source": [
    "sum"
   ]
  },
  {
   "cell_type": "code",
   "execution_count": 9,
   "metadata": {},
   "outputs": [],
   "source": [
    "##entries_len = file_len(train_name)\n",
    "feature_len = 122\n",
    "C = 100"
   ]
  },
  {
   "cell_type": "code",
   "execution_count": 10,
   "metadata": {},
   "outputs": [],
   "source": [
    "def HX(w,b):\n",
    "    sum=0\n",
    "    for i in range (122):\n",
    "        sum+=(w[i]*w[i])/2\n",
    "    for i in range (6000):\n",
    "        sum+=C*max(0,1-Y[i][0]*np.inner(w, X[i]) + b)\n",
    "    return sum    "
   ]
  },
  {
   "cell_type": "code",
   "execution_count": 11,
   "metadata": {},
   "outputs": [],
   "source": [
    "def DHW(j,w,b):\n",
    "    sum=w[j]\n",
    "    for i in range(6000): \n",
    "        if Y[i][0] *np.inner(w,X[i])+ b >=1:\n",
    "            temp=0\n",
    "        else:\n",
    "            temp=-Y[i][0]*X[i][j]\n",
    "        sum+= C*temp\n",
    "    return sum"
   ]
  },
  {
   "cell_type": "code",
   "execution_count": 12,
   "metadata": {},
   "outputs": [],
   "source": [
    "def DHB(w,b):\n",
    "    sum=0\n",
    "    for i in range(6000): \n",
    "        if Y[i][0] *np.inner(w,X[i])+ b >=1:\n",
    "            temp=0\n",
    "        else:\n",
    "            temp=-Y[i][0]\n",
    "        sum+= C*temp\n",
    "    return sum"
   ]
  },
  {
   "cell_type": "code",
   "execution_count": 13,
   "metadata": {},
   "outputs": [
    {
     "data": {
      "text/plain": [
       "array([-1.], dtype=float32)"
      ]
     },
     "execution_count": 13,
     "metadata": {},
     "output_type": "execute_result"
    }
   ],
   "source": [
    "Y[0]"
   ]
  },
  {
   "cell_type": "code",
   "execution_count": 14,
   "metadata": {},
   "outputs": [
    {
     "data": {
      "text/plain": [
       "0.0"
      ]
     },
     "execution_count": 14,
     "metadata": {},
     "output_type": "execute_result"
    }
   ],
   "source": [
    "Y[0][0]*np.inner(w, X[0]) + b"
   ]
  },
  {
   "cell_type": "code",
   "execution_count": 15,
   "metadata": {},
   "outputs": [
    {
     "name": "stdout",
     "output_type": "stream",
     "text": [
      "600000.0\n",
      "354576.19654077507\n",
      "268125.6251648034\n",
      "279062.61346663453\n",
      "267866.1996083148\n",
      "266496.1042811753\n",
      "263019.19015157793\n",
      "260987.80977756952\n",
      "258858.1345320647\n",
      "257352.30039017278\n",
      "255481.28288629345\n",
      "253830.34671037513\n",
      "252261.85143797673\n",
      "250752.08821422007\n",
      "249148.59334303078\n",
      "247597.81187001124\n",
      "246177.576362317\n",
      "244557.25373930184\n",
      "243277.9405120388\n",
      "241717.72555741205\n",
      "240368.69396901756\n",
      "239034.59436075753\n",
      "237658.5616591908\n",
      "236623.58368869062\n",
      "235313.22412351635\n",
      "234056.12237023117\n",
      "232856.2132917031\n",
      "231627.50241049775\n",
      "230457.420426207\n",
      "229193.98935197853\n",
      "228056.75183976963\n",
      "226864.10218679087\n",
      "225680.13447683633\n",
      "224590.5135985938\n",
      "223451.2888565381\n",
      "222330.75245271833\n",
      "221207.81460701276\n",
      "220092.4601851744\n",
      "218949.68985887285\n",
      "217804.6573819299\n",
      "216838.3068138059\n",
      "215758.38117839472\n",
      "214682.70408839415\n",
      "213580.51483218014\n",
      "212706.4841459109\n",
      "211565.74909328026\n",
      "210613.4683027755\n",
      "209574.21261876414\n",
      "208591.62201504444\n",
      "207617.47887777165\n",
      "206594.14743678915\n",
      "205575.6047346313\n",
      "204490.89661392674\n",
      "203437.3043374039\n",
      "202422.5361724431\n",
      "201492.42561475883\n",
      "200583.99953710387\n",
      "199641.2771773123\n",
      "198724.93690959676\n",
      "197841.15124220753\n",
      "196967.69514186875\n",
      "196096.75355991503\n",
      "195225.6701040859\n",
      "194382.23194030853\n",
      "193564.65162366332\n",
      "192774.91779236906\n",
      "191979.700949437\n",
      "191232.31591299697\n",
      "190539.73117546138\n",
      "189789.61195189762\n",
      "189106.47603638325\n",
      "188426.23930478742\n",
      "187794.37391381766\n",
      "187205.19983964122\n",
      "186662.95581691852\n",
      "186078.37642428098\n",
      "185537.84853302583\n",
      "184997.18955333883\n",
      "184527.34306075066\n",
      "184042.8457639024\n",
      "183593.74064823534\n"
     ]
    }
   ],
   "source": [
    "eta=0.0000003\n",
    "epsilon=0.25\n",
    "cost= HX(w,b)\n",
    "print(cost)\n",
    "\n",
    "while True:\n",
    "    \n",
    "    cost1 = cost\n",
    "    \n",
    "    gw = []\n",
    "    for i in range(122):\n",
    "        gw.append(DHW(i, w, b))\n",
    "    gb = DHB(w ,b)\n",
    "    \n",
    "    for i in range(122):\n",
    "        w[i] = w[i] - eta * gw[i]\n",
    "    b = b - eta * gb\n",
    "    \n",
    "    cost = HX(w, b)\n",
    "    print(cost)\n",
    "    \n",
    "    if abs(cost1-cost) / cost1 * 100 < epsilon:\n",
    "        break\n",
    "    "
   ]
  },
  {
   "cell_type": "code",
   "execution_count": null,
   "metadata": {},
   "outputs": [],
   "source": []
  }
 ],
 "metadata": {
  "kernelspec": {
   "display_name": "Python 3",
   "language": "python",
   "name": "python3"
  },
  "language_info": {
   "codemirror_mode": {
    "name": "ipython",
    "version": 3
   },
   "file_extension": ".py",
   "mimetype": "text/x-python",
   "name": "python",
   "nbconvert_exporter": "python",
   "pygments_lexer": "ipython3",
   "version": "3.7.0"
  }
 },
 "nbformat": 4,
 "nbformat_minor": 2
}
